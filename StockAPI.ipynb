{
  "nbformat": 4,
  "nbformat_minor": 0,
  "metadata": {
    "colab": {
      "provenance": [],
      "authorship_tag": "ABX9TyOkbOPbK0Pak/tELKuoIarT",
      "include_colab_link": true
    },
    "kernelspec": {
      "name": "python3",
      "display_name": "Python 3"
    },
    "language_info": {
      "name": "python"
    }
  },
  "cells": [
    {
      "cell_type": "markdown",
      "metadata": {
        "id": "view-in-github",
        "colab_type": "text"
      },
      "source": [
        "<a href=\"https://colab.research.google.com/github/mattg274/DS2002/blob/main/StockAPI.ipynb\" target=\"_parent\"><img src=\"https://colab.research.google.com/assets/colab-badge.svg\" alt=\"Open In Colab\"/></a>"
      ]
    },
    {
      "cell_type": "code",
      "source": [
        "\n",
        "import json\n",
        "import pandas as pd\n",
        "import json\n",
        "import requests"
      ],
      "metadata": {
        "id": "XoAXig2YSmny"
      },
      "execution_count": 33,
      "outputs": []
    },
    {
      "cell_type": "code",
      "source": [
        "stock=input(\"Enter Ticker Symbol\")"
      ],
      "metadata": {
        "colab": {
          "base_uri": "https://localhost:8080/"
        },
        "id": "tI_bVM7eVd1H",
        "outputId": "99f22a85-0927-4369-9642-7edbd79f4eb6"
      },
      "execution_count": 39,
      "outputs": [
        {
          "name": "stdout",
          "output_type": "stream",
          "text": [
            "Enter Ticker SymbolAAPL\n"
          ]
        }
      ]
    },
    {
      "cell_type": "code",
      "source": [
        "print(\"The Stock we will research is:\" + stock)"
      ],
      "metadata": {
        "colab": {
          "base_uri": "https://localhost:8080/"
        },
        "id": "TE6KsdESkrz0",
        "outputId": "1397a96d-cfc9-4fe6-c60b-d0caecf8d2ea"
      },
      "execution_count": 40,
      "outputs": [
        {
          "output_type": "stream",
          "name": "stdout",
          "text": [
            "The Stock we will research is:AAPL\n"
          ]
        }
      ]
    },
    {
      "cell_type": "code",
      "source": [
        "apikey = \"X\"\n",
        "\n",
        "url_1 = \"https://yfapi.net/v6/finance/quote\"\n",
        "querystring = {\"symbols\": stock}\n",
        "headers = {'x-api-key': apikey}\n",
        "\n",
        "response_1 = requests.get(url_1, headers=headers, params=querystring)\n",
        "\n",
        "stock_data = {\n",
        "    \"Symbol\": stock,\n",
        "    \"Company Name\": None,\n",
        "    \"Current Price\": None,\n",
        "    \"52-Week High\": None,\n",
        "    \"52-Week Low\": None,\n",
        "    \"Target Mean Price\": None\n",
        "}\n",
        "\n",
        "if response_1.status_code == 200:\n",
        "    stock_json_1 = response_1.json()\n",
        "\n",
        "    if stock_json_1['quoteResponse']['result']:\n",
        "        company_name = stock_json_1['quoteResponse']['result'][0][\"longName\"]\n",
        "        current_price = stock_json_1['quoteResponse']['result'][0][\"regularMarketPrice\"]\n",
        "        fifty_two_week_high = stock_json_1['quoteResponse']['result'][0][\"fiftyTwoWeekHigh\"]\n",
        "        fifty_two_week_low = stock_json_1['quoteResponse']['result'][0][\"fiftyTwoWeekLow\"]\n",
        "    else:\n",
        "        print(f\"Error: No data found for stock symbol '{stock}'.\")\n",
        "        company_name = current_price = fifty_two_week_high = fifty_two_week_low = None\n",
        "else:\n",
        "    print(f\"Error: Unable to fetch data from {url_1} (Status code: {response_1.status_code})\")\n",
        "    company_name = current_price = fifty_two_week_high = fifty_two_week_low = None\n",
        "\n",
        "url_2 = f\"https://yfapi.net/v11/finance/quoteSummary/{stock}\"\n",
        "params_2 = {\"modules\": \"financialData\"}\n",
        "\n",
        "response_2 = requests.get(url_2, headers=headers, params=params_2)\n",
        "\n",
        "if response_2.status_code == 200:\n",
        "    stock_json_2 = response_2.json()\n",
        "\n",
        "    if stock_json_2['quoteSummary']['result']:\n",
        "        try:\n",
        "            target_mean_price = stock_json_2['quoteSummary']['result'][0]['financialData']['targetMeanPrice']['fmt']\n",
        "        except KeyError:\n",
        "            target_mean_price = \"N/A\"\n",
        "    else:\n",
        "        print(f\"Error: No data found for financial data of stock symbol '{stock}'.\")\n",
        "        target_mean_price = \"N/A\"\n",
        "else:\n",
        "    print(f\"Error: Unable to fetch data from {url_2} (Status code: {response_2.status_code})\")\n",
        "    target_mean_price = \"N/A\"\n",
        "\n",
        "url_3 = f\"https://yfapi.net/v1/finance/trending/US\"\n",
        "response_3 = requests.get(url_3, headers=headers)\n",
        "\n",
        "if response_3.status_code == 200:\n",
        "    trending_json = response_3.json()\n",
        "    try:\n",
        "        US_5_Trending = trending_json['finance']['result'][0]['quotes'][:5]\n",
        "    except (KeyError, IndexError):\n",
        "        US_5_Trending = []\n",
        "else:\n",
        "    print(f\"Error: Unable to fetch data from {url_3} (Status code: {response_3.status_code})\")\n",
        "    US_5_Trending = []\n",
        "\n",
        "if company_name and current_price is not None:\n",
        "    print(f\"{company_name} Price: ${current_price}, 52-Week High: ${fifty_two_week_high}, \"\n",
        "          f\"52-Week Low: ${fifty_two_week_low}, Target Mean Price: {target_mean_price}\")\n",
        "\n",
        "if US_5_Trending:\n",
        "    trending_stocks = ', '.join([stock['symbol'] for stock in US_5_Trending])\n",
        "    print(f\"Trending US Stocks: {trending_stocks}\")\n",
        "else:\n",
        "    print(\"No trending stocks data available.\")\n",
        "\n"
      ],
      "metadata": {
        "colab": {
          "base_uri": "https://localhost:8080/"
        },
        "id": "XmC1L7oPku1u",
        "outputId": "2fcc773d-5266-48aa-83d8-c6cf450f4244"
      },
      "execution_count": 41,
      "outputs": [
        {
          "output_type": "stream",
          "name": "stdout",
          "text": [
            "Apple Inc. Price: $227.725, 52-Week High: $237.23, 52-Week Low: $164.08, Target Mean Price: 240.58\n",
            "Trending US Stocks: AMSC, XRP-USD, RACE, PWR, BBD\n"
          ]
        }
      ]
    },
    {
      "cell_type": "markdown",
      "source": [],
      "metadata": {
        "id": "SrIK1fNJk28i"
      }
    },
    {
      "cell_type": "code",
      "source": [
        "Stock_df = pd.DataFrame([stock_data])\n",
        "print(Stock_df)\n",
        "for data in company_name, current_price, fifty_two_week_high, fifty_two_week_low, target_mean_price:\n",
        "    print(data)"
      ],
      "metadata": {
        "colab": {
          "base_uri": "https://localhost:8080/"
        },
        "id": "U35o2GX-5bSC",
        "outputId": "fc79344b-dcd9-4f1c-8dc3-5d3e3844080c"
      },
      "execution_count": 45,
      "outputs": [
        {
          "output_type": "stream",
          "name": "stdout",
          "text": [
            "  Symbol Company Name Current Price 52-Week High 52-Week Low Target Mean Price\n",
            "0   AAPL         None          None         None        None              None\n",
            "Apple Inc.\n",
            "227.725\n",
            "237.23\n",
            "164.08\n",
            "240.58\n"
          ]
        }
      ]
    }
  ]
}